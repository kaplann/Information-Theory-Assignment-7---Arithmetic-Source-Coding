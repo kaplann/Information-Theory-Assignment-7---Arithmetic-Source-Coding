{
 "cells": [
  {
   "cell_type": "markdown",
   "metadata": {},
   "source": [
    "# Information Theory - assignment 7\n",
    "### Noam Kaplan - 200520328\n",
    "### Yuval Anavim - 200496610"
   ]
  },
  {
   "cell_type": "markdown",
   "metadata": {},
   "source": [
    "## Source Characterization: \n",
    "### Markovian state matrix: "
   ]
  },
  {
   "cell_type": "code",
   "execution_count": 14,
   "metadata": {
    "collapsed": false
   },
   "outputs": [],
   "source": [
    "from mpmath import mpf, mp, fsum\n",
    "import time, random, math\n",
    "import numpy as np\n",
    "from struct import pack\n",
    "from collections import defaultdict\n"
   ]
  },
  {
   "cell_type": "code",
   "execution_count": 2,
   "metadata": {
    "collapsed": false
   },
   "outputs": [],
   "source": [
    "# Parameters: \n",
    "#alpha, beta, gamma, delta = mpf(0.8), mpf(0.8), mpf(0.9), mpf(0.9)\n",
    "alpha, beta, gamma, delta = 0.8, 0.8, 0.9, 0.9\n",
    "\n",
    "num_symbols = 10**5\n",
    "# Set float precision: \n",
    "mp.dps = 3000"
   ]
  },
  {
   "cell_type": "code",
   "execution_count": 3,
   "metadata": {
    "collapsed": false
   },
   "outputs": [],
   "source": [
    "pr_matrix = np.asarray( [[1-alpha  , alpha/5   , 0         , 4*alpha/5 ],\n",
    "                         [4*beta/5 , 1-beta    , beta/5    , 0         ],\n",
    "                         [0        , 4*gamma/5 , 1-gamma   , gamma/5   ], \n",
    "                         [delta/5  , 0         , 4*delta/5 , 1-delta   ]] )"
   ]
  },
  {
   "cell_type": "code",
   "execution_count": 4,
   "metadata": {
    "collapsed": true
   },
   "outputs": [],
   "source": [
    "# Generate string of symbols as instructed. \n",
    "def generate_data(prob_mat, n=100, verbose=False): \n",
    "    symbol_list = [] # Start symbol list to empty list\n",
    "    # Choose starting state randmoly: \n",
    "    prev_state = int(random.random()*4)\n",
    "    for i in range(n): \n",
    "        # Choose next cell by prob\n",
    "        new_state = np.random.choice([0,1,2,3], p=pr_matrix[prev_state])\n",
    "        # Add simbol to list\n",
    "        symbol_list.append(new_state)\n",
    "        # Update prev_state\n",
    "        prev_state = new_state\n",
    "    if verbose: \n",
    "        print(symbol_list)\n",
    "        #print(bytearray(symbol_list))\n",
    "    return symbol_list"
   ]
  },
  {
   "cell_type": "code",
   "execution_count": 5,
   "metadata": {
    "collapsed": false
   },
   "outputs": [],
   "source": [
    "# Write generated data to hard drive in binary form. \n",
    "def write_binary_symbols(non_binary_symbol_list, verbose=False):\n",
    "    binary_string_2write = [] # Will accumulate bytes in form ['10010011', '00000100',] \n",
    "    # Get chunks of four symbols: \n",
    "    for four_symbols in [non_binary_symbol_list[i:i+4] for i in range(0,len(non_binary_symbol_list), 4)]:\n",
    "        binary_byte = [] # Will accumulate four symbols in form ['10', '01', '00']\n",
    "        for symbol in four_symbols: \n",
    "            binary_byte.append('{:02b}'.format(symbol))\n",
    "        binary_string_2write.append(''.join(binary_byte))\n",
    "        if verbose and len(non_binary_symbol_list) < 1000: \n",
    "            print(four_symbols, binary_byte, ''.join(binary_byte), binary_string_2write)\n",
    "    with open(\"orig.bin\", \"wb\") as file: # Write bytes to file\n",
    "        uint8_rep = [int(x, 2) for x in binary_string_2write]\n",
    "        file.write(pack('<'+ 'B'*len(uint8_rep), *bytearray(uint8_rep))) \n",
    "\n"
   ]
  },
  {
   "cell_type": "markdown",
   "metadata": {},
   "source": [
    "### As instructed, We first generate a string of symbols and then write it to memory in binary form. "
   ]
  },
  {
   "cell_type": "code",
   "execution_count": 6,
   "metadata": {
    "collapsed": false
   },
   "outputs": [],
   "source": [
    "non_binary_symbols = generate_data(pr_matrix, num_symbols) # [2, 2, 0, ..., 1, 3]\n",
    "write_binary_symbols(non_binary_symbols, False)"
   ]
  },
  {
   "cell_type": "markdown",
   "metadata": {},
   "source": [
    "## 1) קידוד אריתמטי\n",
    "1 .יישמו קידוד אריתמטי עבור קובץ \"orig \"באמצעות המודל של לפלס שנלמד בכיתה, ותיצרו קובץ דחוס\n",
    "ולא\n",
    "(0,1,2,3)\n",
    "\"arithmLaplace .\"שימו לב: ה-input לדוחס )בכל הסעיפים בעבודה זו( יהיו סמבולים\n",
    "ביטים. לכן, עליכם לתרגם את הביטים מתוך קובץ \"orig \"לסמבולים. שימו לב: זמן ריצה של\n",
    "האלגוריתם לא צריך לעלות על דקות ספורות."
   ]
  },
  {
   "cell_type": "code",
   "execution_count": 7,
   "metadata": {
    "collapsed": false
   },
   "outputs": [],
   "source": [
    "def laplas_rule_prob(counter): \n",
    "    return [specific_laplas_rule_prob(counter, symbol) for symbol in sorted(counter)]\n",
    "\n",
    "# Dynamically calculate the probability of a symbol using a counting dictionary of all symbols. \n",
    "# Return prob(symbol). \n",
    "def specific_laplas_rule_prob(counter, symbol):\n",
    "    return mpf((counter[symbol]+1))/(sum((counter[key] for key in counter)) + len(counter))\n"
   ]
  },
  {
   "cell_type": "code",
   "execution_count": 8,
   "metadata": {
    "collapsed": false
   },
   "outputs": [],
   "source": [
    "def update_limits_original(old_low, old_high, probs, symbol):\n",
    "    low  = mpf(str(old_low)) + fsum(mpf(str(probs[i])) for i in range(symbol)) * mpf((old_high-old_low))#mp.fsub\n",
    "    high = mpf(str(old_low)) + fsum(mpf(str(probs[i])) for i in range(symbol+1)) * mpf((old_high-old_low))\n",
    "    return low, high"
   ]
  },
  {
   "cell_type": "code",
   "execution_count": 9,
   "metadata": {
    "collapsed": true
   },
   "outputs": [],
   "source": [
    "def update_limits(old_low, old_high, probs, symbol):\n",
    "    s1 =  fsum(mpf(probs[i]) for i in range(symbol))\n",
    "    low  = mpf(old_low) + s1*mpf(old_high) - s1*mpf(old_low)\n",
    "    s2 = fsum(mpf(probs[i]) for i in range(symbol+1))\n",
    "    high = mpf(old_low) + s2*mpf(old_high) - s2*mpf(old_low)\n",
    "    s2 = fsum(mpf(probs[i]) for i in range(symbol+1))\n",
    "    return low, high"
   ]
  },
  {
   "cell_type": "code",
   "execution_count": null,
   "metadata": {
    "collapsed": true
   },
   "outputs": [],
   "source": [
    "def calc_entorpy(non_binary_symbols): \n",
    "    "
   ]
  },
  {
   "cell_type": "code",
   "execution_count": 10,
   "metadata": {
    "collapsed": false
   },
   "outputs": [],
   "source": [
    "def calc_limits(non_binary_symbols, verbose=False, fixed_probs=[]): \n",
    "    counter = {'0': 0, '1': 0, '2': 0, '3': 0}\n",
    "    low, high = 0, 1\n",
    "    print_indexes = [0, int(len(non_binary_symbols)/4), int(len(non_binary_symbols)/2),\n",
    "                     int(3*len(non_binary_symbols)/4), len(non_binary_symbols)-1]\n",
    "    prev_dps, curr_time = mp.dps, time.time()\n",
    "    for index, symbol in enumerate(non_binary_symbols): # Get next symbol:\n",
    "        if mp.dps*1.6 < index: \n",
    "            mp.dps += 10\n",
    "            if prev_dps + 1000 == mp.dps : \n",
    "                if verbose: \n",
    "                    print('In iteration %d, new mp.dps is %d, time elpased is %.3f' %(index, mp.dps, time.time()-curr_time))\n",
    "                curr_time = time.time()\n",
    "                prev_dps = mp.dps\n",
    "        if not fixed_probs: \n",
    "            probs = laplas_rule_prob(counter)  # Calculate each prob. \n",
    "        else:  \n",
    "            probs = fixed_probs\n",
    "        # If index of symbol is o, len/4, len/2, 3len/4: print probs. \n",
    "        if index in print_indexes: \n",
    "            for prob in probs: \n",
    "                print('%.5f' % prob)\n",
    "            print()\n",
    "        low, high = update_limits(low, high, probs, symbol) # Calculate limits.\n",
    "        counter[str(symbol)] += 1          # Update counter.\n",
    "        if verbose: \n",
    "            print(probs)\n",
    "            print(low, high)\n",
    "        if low == high: \n",
    "            print('After %d symbols, Low == High' % index)\n",
    "            return low, high\n",
    "    if low == high: \n",
    "        print('Low == High')\n",
    "    mp.dps = 1000\n",
    "    return low, high"
   ]
  },
  {
   "cell_type": "markdown",
   "metadata": {},
   "source": [
    "### First We calculate low and high limits for the probability now representing the string. \n",
    "#### A printout of the symbol probabilities, after each quarter of the symbols. "
   ]
  },
  {
   "cell_type": "code",
   "execution_count": 11,
   "metadata": {
    "collapsed": false
   },
   "outputs": [
    {
     "name": "stdout",
     "output_type": "stream",
     "text": [
      "0.25000\n",
      "0.25000\n",
      "0.25000\n",
      "0.25000\n",
      "\n",
      "0.26528\n",
      "0.26340\n",
      "0.23720\n",
      "0.23412\n",
      "\n",
      "0.26494\n",
      "0.26488\n",
      "0.23644\n",
      "0.23374\n",
      "\n",
      "0.26551\n",
      "0.26525\n",
      "0.23500\n",
      "0.23424\n",
      "\n",
      "0.26408\n",
      "0.26545\n",
      "0.23586\n",
      "0.23460\n",
      "\n",
      "CPU times: user 1h 18min 19s, sys: 1.78 s, total: 1h 18min 21s\n",
      "Wall time: 1h 18min 22s\n"
     ]
    }
   ],
   "source": [
    "% time low, high = calc_limits(non_binary_symbols)"
   ]
  },
  {
   "cell_type": "markdown",
   "metadata": {},
   "source": [
    "### Size of ArithmLaplace on disk: 25kB! "
   ]
  },
  {
   "cell_type": "markdown",
   "metadata": {
    "collapsed": false
   },
   "source": [
    "### Next we define 2 new functions to create a compressed file from these two probabilities. \n",
    "#### High_low_2_bin receives these 2 limits and caclulates the number of bits needed to represent a number inbetween, and returns a binary string with calculated length, representing a value within limits. \n",
    "#### write_binary_string receives a file name and a binary string and writes it to HD. "
   ]
  },
  {
   "cell_type": "code",
   "execution_count": 17,
   "metadata": {
    "collapsed": false
   },
   "outputs": [],
   "source": [
    "def high_low_2_bin(high, low): \n",
    "    num_digits2write = math.ceil(mp.log(1/(high-low),2)) + 1\n",
    "    hight = high\n",
    "    for x in range(num_digits2write): \n",
    "        hight = mp.fmul(hight, mpf(10))\n",
    "    return bin(int(hight))[2:num_digits2write+2]\n",
    "\n",
    "def write_binary_string(file_name, binary_string): \n",
    "    byte_list = [binary_string[i:i+8] for i in range(0, len(binary_string), 8)]\n",
    "    uint8_rep = [int(x, 2) for x in byte_list]\n",
    "    with open(file_name+'.bin', 'wb') as t_file: \n",
    "        t_file.write(pack('<'+ 'B'*len(uint8_rep), *bytearray(uint8_rep))) "
   ]
  },
  {
   "cell_type": "code",
   "execution_count": 18,
   "metadata": {
    "collapsed": false
   },
   "outputs": [],
   "source": [
    "compressed_binary_string = high_low_2_bin(high, low)\n",
    "write_binary_string('arithmLaplace', compressed_binary_string)"
   ]
  },
  {
   "cell_type": "markdown",
   "metadata": {},
   "source": [
    "### Size of ArithmAmp on disk:  25.0 kB (24,972 bytes)\n",
    "Clearly, the file has hardly been compressed. This will be adressed at length in the report. "
   ]
  },
  {
   "cell_type": "markdown",
   "metadata": {},
   "source": [
    "## 2)\n",
    ".תרשמו קטע קוד העובר על כל הקובץ ומחשב את ההסתברויות להופעה של כל אחד מהסימנים בקובץ.\n",
    "לסט הסתברויות אלו נקרא הסתברויות ה\"אמפיריות\" של המקור. ענו: האם הסתברויות האמפיריות\n",
    "שוות להסתברויות הסופיות מסעיף הקודם? הסבירו את התשובה. יישמו קידוד אריתמטי עבור קובץ\n",
    "\"orig \"תחת ההנחה שהמקור מתפלג לפי הסתברויות האמפיריות שחישבתם ותיצרו קובץ דחוס\n",
    ".\"arithmAmp\""
   ]
  },
  {
   "cell_type": "code",
   "execution_count": 19,
   "metadata": {
    "collapsed": false
   },
   "outputs": [],
   "source": [
    "def calc_amphiric_probs(symbol_list):\n",
    "    counter = defaultdict(int)\n",
    "    for symbol in symbol_list: \n",
    "        counter[symbol] += 1\n",
    "    return [(symbol, counter[symbol]/len(symbol_list)) for symbol in sorted(counter)]"
   ]
  },
  {
   "cell_type": "code",
   "execution_count": 20,
   "metadata": {
    "collapsed": false
   },
   "outputs": [
    {
     "name": "stdout",
     "output_type": "stream",
     "text": [
      "Ampirical symbol probabilities:  [(0, 0.26409), (1, 0.26545), (2, 0.23586), (3, 0.2346)]\n"
     ]
    }
   ],
   "source": [
    "fixed_probs_amp = calc_amphiric_probs(non_binary_symbols)\n",
    "print('Ampirical symbol probabilities: ', fixed_probs_amp)"
   ]
  },
  {
   "cell_type": "markdown",
   "metadata": {},
   "source": [
    "### As is clearly visible, these are infact the same results as in previous question. "
   ]
  },
  {
   "cell_type": "markdown",
   "metadata": {},
   "source": [
    "## We will now repeat the process of creating and writing a compressed file, this time with fixed ampirical probabilities. "
   ]
  },
  {
   "cell_type": "code",
   "execution_count": 21,
   "metadata": {
    "collapsed": false
   },
   "outputs": [
    {
     "name": "stdout",
     "output_type": "stream",
     "text": [
      "0.26409\n",
      "0.26545\n",
      "0.23586\n",
      "0.23460\n",
      "\n",
      "0.26409\n",
      "0.26545\n",
      "0.23586\n",
      "0.23460\n",
      "\n",
      "0.26409\n",
      "0.26545\n",
      "0.23586\n",
      "0.23460\n",
      "\n",
      "0.26409\n",
      "0.26545\n",
      "0.23586\n",
      "0.23460\n",
      "\n",
      "0.26409\n",
      "0.26545\n",
      "0.23586\n",
      "0.23460\n",
      "\n",
      "CPU times: user 31.4 s, sys: 13 ms, total: 31.4 s\n",
      "Wall time: 31.4 s\n"
     ]
    }
   ],
   "source": [
    "% time low, high = calc_limits(non_binary_symbols, fixed_probs=[ x[1] for x in fixed_probs_amp])"
   ]
  },
  {
   "cell_type": "markdown",
   "metadata": {},
   "source": [
    "### As before, we process the limits and save the file. "
   ]
  },
  {
   "cell_type": "code",
   "execution_count": 23,
   "metadata": {
    "collapsed": true
   },
   "outputs": [],
   "source": [
    "compressed_binary_string = high_low_2_bin(high, low)\n",
    "write_binary_string('arithmAmp', compressed_binary_string)"
   ]
  },
  {
   "cell_type": "markdown",
   "metadata": {},
   "source": [
    "### Size of ArithmAmp on disk: 25.0 kB (24,969 bytes)"
   ]
  },
  {
   "cell_type": "markdown",
   "metadata": {},
   "source": [
    "## 3)\n",
    "יישמו קידוד אריתמטי עבור קובץ \"orig \"תחת ההנחה שהסמבולים הם בלתי תלויים ומתפלגים אותו\n",
    "הדבר, כלומר כאשר מניחים\n",
    "1\n",
    "(0) (1) (2) (3)\n",
    "4\n",
    ", ותיצרו קובץ דחוס \"arithmIid."
   ]
  },
  {
   "cell_type": "markdown",
   "metadata": {},
   "source": [
    "## We will now repeat the process of creating and writing a compressed file, this time with fixed equal probabilities. "
   ]
  },
  {
   "cell_type": "code",
   "execution_count": 24,
   "metadata": {
    "collapsed": false
   },
   "outputs": [
    {
     "name": "stdout",
     "output_type": "stream",
     "text": [
      "Ampirical symbol probabilities:  [(0, 0.25), (1, 0.25), (2, 0.25), (3, 0.25)]\n",
      "0.25000\n",
      "0.25000\n",
      "0.25000\n",
      "0.25000\n",
      "\n",
      "0.25000\n",
      "0.25000\n",
      "0.25000\n",
      "0.25000\n",
      "\n",
      "0.25000\n",
      "0.25000\n",
      "0.25000\n",
      "0.25000\n",
      "\n",
      "0.25000\n",
      "0.25000\n",
      "0.25000\n",
      "0.25000\n",
      "\n",
      "0.25000\n",
      "0.25000\n",
      "0.25000\n",
      "0.25000\n",
      "\n",
      "CPU times: user 21.9 s, sys: 5 ms, total: 21.9 s\n",
      "Wall time: 21.9 s\n"
     ]
    }
   ],
   "source": [
    "fixed_probs_iid = [(0, 0.25), (1, 0.25), (2, 0.25), (3, 0.25)]\n",
    "print('Ampirical symbol probabilities: ', fixed_probs_iid)\n",
    "% time low, high = calc_limits(non_binary_symbols, fixed_probs=[ x[1] for x in fixed_probs_iid])"
   ]
  },
  {
   "cell_type": "markdown",
   "metadata": {},
   "source": [
    "### As before, we process the limits and save the file. "
   ]
  },
  {
   "cell_type": "code",
   "execution_count": 25,
   "metadata": {
    "collapsed": true
   },
   "outputs": [],
   "source": [
    "compressed_binary_string = high_low_2_bin(high, low)\n",
    "write_binary_string('arithmIid', compressed_binary_string)"
   ]
  },
  {
   "cell_type": "markdown",
   "metadata": {},
   "source": [
    "### Size of ArithmAmp on disk: 25.0 kB (25,001 bytes)"
   ]
  },
  {
   "cell_type": "markdown",
   "metadata": {},
   "source": [
    "## 4)\n",
    "הפעם נשתמש במודל מתוחכם יותר, אשר יניח שהמקור שיצר את הקובץ הוא מרקובי וינסה לגלות\n",
    ".\"arithmLaplaceMarkov\" דחוס קובץ תיצרו). ,, , )\n",
    "במהלך הקידוד את\n",
    "נממש את המודל כך:\n",
    "( 44\n",
    "נחזיק מטריצה\n",
    "Fji\n",
    "( עבור כל המעברים אפשריים של המקור. ובדומה למודל לפלס, נספור מספר\n",
    "הופעות של כל מעבר עד לסמבול הנוכחי. ועל סמך המידע שאספנו, נקבע את ההתפלגות של הסמבול\n",
    "הנוכחי. כלומר,\n",
    " \n",
    "X A\n",
    "F\n",
    "P X i X j\n",
    "ji\n",
    "n n\n",
    "\n",
    "\n",
    "   \n",
    "1\n",
    "|\n",
    "1\n",
    ", כאשר\n",
    "Fji\n",
    "שהיו עד לסמבול ה-n- י,\n",
    "ל- i\n",
    "- זה מספר המעברים מ- j\n",
    ")לא משנה למי( עד\n",
    "X - זהו הגודל של הא\"ב של המקור, ו- A - זה סה\"כ מספר המעברים שהיו מ- j\n",
    "לסמבול ה- n- י. שימו לב: זמן ריצה של האלגוריתם לא צריך לעלות על 3 דקות."
   ]
  },
  {
   "cell_type": "markdown",
   "metadata": {},
   "source": [
    "## We will now repeat the process of creating and writing a compressed file. We have a more advanced copy of the function calc_limits, called calc_limits_markov. Function or similar, only the latter has a more advanced probability model. "
   ]
  },
  {
   "cell_type": "code",
   "execution_count": 26,
   "metadata": {
    "collapsed": true
   },
   "outputs": [],
   "source": [
    "def calc_limits_markov(non_binary_symbols, verbose=False): \n",
    "    counter = defaultdict(lambda: defaultdict(lambda: 0))\n",
    "    low, high = 0, 1\n",
    "    print_indexes = [0, int(len(non_binary_symbols)/4), int(len(non_binary_symbols)/2), int(3*len(non_binary_symbols)/4)]\n",
    "    prev_dps, curr_time = mp.dps, time.time()\n",
    "    prev_symbol = 0\n",
    "    for index, symbol in enumerate(non_binary_symbols): # Get next symbol:\n",
    "        probs = markov_probs(counter, prev_symbol)\n",
    "        if mp.dps*1.6 < index: \n",
    "            mp.dps += 10\n",
    "            if prev_dps + 1000 == mp.dps : \n",
    "                if verbose: \n",
    "                    print('In iteration %d, new mp.dps is %d, time elpased is %.3f' %(index, mp.dps, time.time()-curr_time))\n",
    "                curr_time = time.time()\n",
    "                prev_dps = mp.dps\n",
    "        \n",
    "        # If index of symbol is o, len/4, len/2, 3len/4: print probs. \n",
    "        if index in print_indexes: \n",
    "            for prob in probs: \n",
    "                print('%.10f' % prob)\n",
    "            print()\n",
    "        low, high = update_limits(low, high, probs, symbol) # Calculate limits.\n",
    "        counter[prev_symbol][symbol] += 1          # Update counter.\n",
    "        if verbose: \n",
    "            print(probs)\n",
    "            print(low, high)\n",
    "        if low == high: \n",
    "            print('After %d symbols, Low == High' % index)\n",
    "            return low, high\n",
    "        prev_symbol = symbol\n",
    "    if low == high: \n",
    "        print('Low == High')\n",
    "    mp.dps = 1000\n",
    "    return low, high"
   ]
  },
  {
   "cell_type": "code",
   "execution_count": 27,
   "metadata": {
    "collapsed": false
   },
   "outputs": [],
   "source": [
    "def markov_probs(counter, prev): \n",
    "    return [markov_probs_specific(counter, prev, curr) for curr in range(4)]\n",
    "\n",
    "def markov_probs_specific(counter, prev, curr):\n",
    "    f_ij = counter[prev][curr]\n",
    "    A = sum(counter[prev][key] for key in counter[prev])\n",
    "    return mpf(1 + f_ij) / (4 + A)"
   ]
  },
  {
   "cell_type": "code",
   "execution_count": 28,
   "metadata": {
    "collapsed": false
   },
   "outputs": [
    {
     "name": "stdout",
     "output_type": "stream",
     "text": [
      "0.2500000000\n",
      "0.2500000000\n",
      "0.2500000000\n",
      "0.2500000000\n",
      "\n",
      "0.6478445659\n",
      "0.1915604129\n",
      "0.1604432301\n",
      "0.0001517911\n",
      "\n",
      "0.6419566694\n",
      "0.1942326565\n",
      "0.1637351853\n",
      "0.0000754888\n",
      "\n",
      "0.1793295771\n",
      "0.0000569120\n",
      "0.7186841955\n",
      "0.1019293153\n",
      "\n",
      "CPU times: user 1h 13min 25s, sys: 1.43 s, total: 1h 13min 27s\n",
      "Wall time: 1h 13min 28s\n"
     ]
    }
   ],
   "source": [
    "% time low, high = calc_limits_markov(non_binary_symbols)"
   ]
  },
  {
   "cell_type": "markdown",
   "metadata": {},
   "source": [
    "### As before, we process the limits and save the file. "
   ]
  },
  {
   "cell_type": "code",
   "execution_count": 29,
   "metadata": {
    "collapsed": true
   },
   "outputs": [],
   "source": [
    "compressed_binary_string = high_low_2_bin(high, low)\n",
    "write_binary_string('arithmLaplaceMarkov', compressed_binary_string)"
   ]
  },
  {
   "cell_type": "markdown",
   "metadata": {},
   "source": [
    "### Size of ArithmAmp on disk: 15.2 kB (15,178 bytes)"
   ]
  }
 ],
 "metadata": {
  "kernelspec": {
   "display_name": "Python 3",
   "language": "python",
   "name": "python3"
  },
  "language_info": {
   "codemirror_mode": {
    "name": "ipython",
    "version": 3
   },
   "file_extension": ".py",
   "mimetype": "text/x-python",
   "name": "python",
   "nbconvert_exporter": "python",
   "pygments_lexer": "ipython3",
   "version": "3.5.1"
  }
 },
 "nbformat": 4,
 "nbformat_minor": 0
}
